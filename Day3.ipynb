{
 "cells": [
  {
   "cell_type": "markdown",
   "metadata": {},
   "source": [
    "# question1\n",
    "Create a numpy array starting from 2 till 50 with a stepsize of 3."
   ]
  },
  {
   "cell_type": "code",
   "execution_count": 1,
   "metadata": {},
   "outputs": [],
   "source": [
    "import numpy as np"
   ]
  },
  {
   "cell_type": "code",
   "execution_count": 2,
   "metadata": {},
   "outputs": [
    {
     "name": "stdout",
     "output_type": "stream",
     "text": [
      "[ 2  5  8 11 14 17 20 23 26 29 32 35 38 41 44 47]\n"
     ]
    }
   ],
   "source": [
    "arr=np.arange(2,50,3)\n",
    "print(arr)"
   ]
  },
  {
   "cell_type": "markdown",
   "metadata": {},
   "source": [
    "# question2\n",
    "Accept two lists of 5 elements each from the user.\n",
    "Convert them to numpy arrays. Concatenate these arrays and print it. Also sort these arrays and print it."
   ]
  },
  {
   "cell_type": "code",
   "execution_count": null,
   "metadata": {},
   "outputs": [],
   "source": [
    "my_array1=[]\n",
    "my_array2=[]\n",
    "for i in range(0,5):\n",
    "    my_array1.append(float(input(\"Element1:\")))\n",
    "my_array1 = numpy.array(my_array1)\n",
    "print(numpy.floor(my_array1))\n",
    "\n",
    "for i in range(0,5):\n",
    "    my_array2.append(float(input(\"Element2:\")))\n",
    "my_array2 = numpy.array(my_array2)\n",
    "print(numpy.floor(my_array2))\n",
    "\n",
    "my_array3=np.concatenate((my_array1,my_array2),axis=0)\n",
    "print(my_array3)\n",
    "\n",
    "my_array4=np.sort(my_array3)\n",
    "print(my_array4)"
   ]
  },
  {
   "cell_type": "markdown",
   "metadata": {},
   "source": [
    "# question3\n",
    "Write a code snippet to find the dimensions of a ndarray and its size."
   ]
  },
  {
   "cell_type": "raw",
   "metadata": {},
   "source": [
    "Array in Numpy is a table of elements (usually numbers), all of the same type, indexed by a tuple of positive integers. In Numpy, number of dimensions of the array is called rank of the array.A tuple of integers giving the size of the array along each dimension is known as shape of the array. An array class in Numpy is called as ndarray. Elements in Numpy arrays are accessed by using square brackets and can be initialized by using nested Python Lists.\n",
    "\n",
    "Example :\n",
    "\n",
    "[[ 1, 2, 3],\n",
    "      [ 4, 2, 5]]\n",
    "\n",
    "Here, rank = 2 (as it is 2-dimensional or it has 2 axes)\n",
    "First dimension(axis) length = 2, second dimension has length = 3\n",
    "overall shape can be expressed as: (2, 3)\n",
    "\n",
    "\n",
    "\n",
    "# Python program to demonstrate \n",
    "# basic array characteristics\n",
    "import numpy as np\n",
    " \n",
    "# Creating array object\n",
    "arr = np.array( [[ 1, 2, 3],\n",
    "                 [ 4, 2, 5]] )\n",
    " \n",
    "# Printing type of arr object\n",
    "print(\"Array is of type: \", type(arr))\n",
    " \n",
    "# Printing array dimensions (axes)\n",
    "print(\"No. of dimensions: \", arr.ndim)\n",
    " \n",
    "# Printing shape of array\n",
    "print(\"Shape of array: \", arr.shape)\n",
    " \n",
    "# Printing size (total number of elements) of array\n",
    "print(\"Size of array: \", arr.size)\n",
    " \n",
    "# Printing type of elements in array\n",
    "print(\"Array stores elements of type: \", arr.dtype)\n",
    "\n",
    "\n",
    "output:\n",
    "Array is of type:  <class 'numpy.ndarray'>\n",
    "No. of dimensions:  2\n",
    "Shape of array:  (2, 3)\n",
    "Size of array:  6\n",
    "Array stores elements of type:  int64"
   ]
  },
  {
   "cell_type": "markdown",
   "metadata": {},
   "source": [
    "# question4\n",
    "How to convert a 1D array into a 2D array? Demonstrate with the help of a code snippet\n",
    "Hint: np.newaxis, np.expand_dims"
   ]
  },
  {
   "cell_type": "raw",
   "metadata": {},
   "source": [
    "\n",
    "\n",
    "Method 1: Using numpy.newaxis()\n",
    "The first method is to use numpy.newaxis object. This object is equivalent to use None as a parameter while declaring the array. The trick is to use the numpy.newaxis object as a parameter at the index location in which you want to add the new axis.\n",
    "Example: \n",
    "\n",
    "import numpy as np \n",
    "  \n",
    "  \n",
    "arr = np.arange(5*5).reshape(5, 5) \n",
    "print(arr.shape) \n",
    "  \n",
    "# promoting 2D array to a 5D array \n",
    "# arr[None, ..., None, None] \n",
    "arr_5D = arr[np.newaxis, ..., np.newaxis, np.newaxis] \n",
    "  \n",
    "print(arr_5D.shape)\n",
    "Output: \n",
    "\n",
    "(5, 5)\n",
    "(1, 5, 5, 1, 1)\n",
    "\n",
    "Method 2: Using numpy.expand_dims()\n",
    "    The second method is to use numpy.expand_dims() function that has an intuitive axis kwarg. This function takes two parameters. The first is the array of which you want to increase the dimension of and the second is index/indexes of array on which you want to create a new axis.\n",
    "Example: \n",
    "\n",
    "import numpy as np \n",
    "  \n",
    "  \n",
    "x = np.zeros((3, 4)) \n",
    "y = np.expand_dims(x, axis=1).shape \n",
    "print(y) \n",
    "Output: \n",
    "\n",
    "(3, 1, 4)"
   ]
  },
  {
   "cell_type": "markdown",
   "metadata": {},
   "source": [
    "# question5\n",
    "Consider two square numpy arrays. Stack them vertically and horizontally.\n",
    "Hint: Use vstack(), hstack()"
   ]
  },
  {
   "cell_type": "raw",
   "metadata": {},
   "source": [
    "numpy.hstack()\n",
    "Stack arrays in sequence horizontally (column wise).\n",
    "\n",
    "Examples:\n",
    "    a = np.array((1,2,3))\n",
    "    b = np.array((2,3,4))\n",
    "    np.hstack((a,b))\n",
    "    array([1, 2, 3, 2, 3, 4])\n",
    "\n",
    "a = np.array([[1],[2],[3]])\n",
    "b = np.array([[2],[3],[4]])\n",
    "np.hstack((a,b))\n",
    "array([[1, 2],\n",
    "       [2, 3],\n",
    "       [3, 4]])\n",
    "\n",
    "numpy.vstack()\n",
    "Stack arrays in sequence vertically (row wise).\n",
    "\n",
    "Examples:\n",
    "a = np.array([1, 2, 3])\n",
    "b = np.array([2, 3, 4])\n",
    "np.vstack((a,b))\n",
    "array([[1, 2, 3],\n",
    "       [2, 3, 4]])\n",
    "       \n",
    "a = np.array([[1], [2], [3]])\n",
    "b = np.array([[2], [3], [4]])\n",
    "np.vstack((a,b))\n",
    "array([[1],\n",
    "       [2],\n",
    "       [3],\n",
    "       [2],\n",
    "       [3],\n",
    "       [4]])       \n",
    "\n",
    "\n",
    "       "
   ]
  },
  {
   "cell_type": "markdown",
   "metadata": {},
   "source": [
    "# question5\n",
    "How to get unique items and counts of unique items?"
   ]
  },
  {
   "cell_type": "raw",
   "metadata": {},
   "source": [
    "In this method,\n",
    "we will convert our list to set. As sets don’t contain any duplicate items then printing the length of the set will give us the total number of unique items.\n",
    "example:\n",
    "input_list = [1, 2, 2, 5, 8, 4, 4, 8] \n",
    "  \n",
    "# converting our list to set \n",
    "new_set = set(input_list) \n",
    "print(\"No of unique items in the list are:\", len(new_set))\n"
   ]
  },
  {
   "cell_type": "code",
   "execution_count": null,
   "metadata": {},
   "outputs": [],
   "source": []
  },
  {
   "cell_type": "code",
   "execution_count": null,
   "metadata": {},
   "outputs": [],
   "source": []
  },
  {
   "cell_type": "code",
   "execution_count": null,
   "metadata": {},
   "outputs": [],
   "source": []
  },
  {
   "cell_type": "code",
   "execution_count": null,
   "metadata": {},
   "outputs": [],
   "source": []
  },
  {
   "cell_type": "code",
   "execution_count": null,
   "metadata": {},
   "outputs": [],
   "source": []
  }
 ],
 "metadata": {
  "kernelspec": {
   "display_name": "Python 3",
   "language": "python",
   "name": "python3"
  },
  "language_info": {
   "codemirror_mode": {
    "name": "ipython",
    "version": 3
   },
   "file_extension": ".py",
   "mimetype": "text/x-python",
   "name": "python",
   "nbconvert_exporter": "python",
   "pygments_lexer": "ipython3",
   "version": "3.7.4"
  }
 },
 "nbformat": 4,
 "nbformat_minor": 2
}
